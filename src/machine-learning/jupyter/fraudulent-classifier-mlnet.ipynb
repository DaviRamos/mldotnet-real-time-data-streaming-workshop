{
 "cells": [
  {
   "cell_type": "code",
   "execution_count": null,
   "metadata": {
    "scrolled": true
   },
   "outputs": [],
   "source": [
    "#r \"nuget:Microsoft.ML,1.4.0-preview\"\n",
    "#r \"nuget:Microsoft.ML.FastTree, 1.4.0-preview\"\n",
    "#r \"nuget:Microsoft.ML.AutoML\"\n",
    "#r \"nuget:Microsoft.Data.DataFrame,0.1.1-e190920-1\""
   ]
  },
  {
   "cell_type": "markdown",
   "metadata": {},
   "source": [
    "#### Register a HTML formatter for the DataFrame"
   ]
  },
  {
   "cell_type": "code",
   "execution_count": null,
   "metadata": {},
   "outputs": [],
   "source": [
    "using Microsoft.Data;\n",
    "using XPlot.Plotly;"
   ]
  },
  {
   "cell_type": "code",
   "execution_count": null,
   "metadata": {},
   "outputs": [],
   "source": [
    "using Microsoft.AspNetCore.Html;\n",
    "Formatter<DataFrame>.Register((df, writer) =>\n",
    "{\n",
    "    var headers = new List<IHtmlContent>();\n",
    "    headers.Add(th(i(\"index\")));\n",
    "    headers.AddRange(df.Columns.Select(c => (IHtmlContent) th(c)));\n",
    "    var rows = new List<List<IHtmlContent>>();\n",
    "    var take = 20;\n",
    "    for (var i = 0; i < Math.Min(take, df.RowCount); i++)\n",
    "    {\n",
    "        var cells = new List<IHtmlContent>();\n",
    "        cells.Add(td(i));\n",
    "        foreach (var obj in df[i])\n",
    "        {\n",
    "            cells.Add(td(obj));\n",
    "        }\n",
    "        rows.Add(cells);\n",
    "    }\n",
    "    \n",
    "    var t = table(\n",
    "        thead(\n",
    "            headers),\n",
    "        tbody(\n",
    "            rows.Select(\n",
    "                r => tr(r))));\n",
    "    \n",
    "    writer.Write(t);\n",
    "}, \"text/html\");"
   ]
  },
  {
   "cell_type": "markdown",
   "metadata": {},
   "source": [
    "#### Fetch the data"
   ]
  },
  {
   "cell_type": "code",
   "execution_count": null,
   "metadata": {},
   "outputs": [],
   "source": [
    "using System.IO;\n",
    "using System.Net.Http;\n",
    "\n",
    "string dataPath = \"data.csv\";\n",
    "\n",
    "if (!File.Exists(dataPath))\n",
    "{\n",
    "    var contents = new HttpClient()\n",
    "        .GetStringAsync(\"https://aslottepublic.blob.core.windows.net/public/data-small.csv\").Result;\n",
    "        \n",
    "    File.WriteAllText(\"data.csv\", contents);\n",
    "}"
   ]
  },
  {
   "cell_type": "code",
   "execution_count": null,
   "metadata": {},
   "outputs": [],
   "source": [
    "var dataFrame = DataFrame.ReadCsv(dataPath);\n",
    "dataFrame"
   ]
  },
  {
   "cell_type": "markdown",
   "metadata": {},
   "source": [
    "#### Explore the data"
   ]
  },
  {
   "cell_type": "code",
   "execution_count": null,
   "metadata": {},
   "outputs": [],
   "source": [
    "dataFrame.Description()"
   ]
  },
  {
   "cell_type": "code",
   "execution_count": null,
   "metadata": {},
   "outputs": [],
   "source": [
    "Chart.Plot(\n",
    "    new Graph.Histogram()\n",
    "    {\n",
    "        x = dataFrame[\"amount\"],\n",
    "        nbinsx = 100\n",
    "    }\n",
    ")"
   ]
  },
  {
   "cell_type": "code",
   "execution_count": null,
   "metadata": {},
   "outputs": [],
   "source": [
    "Chart.Plot(\n",
    "    new Graph.Histogram()\n",
    "    {\n",
    "        x = dataFrame[\"newbalanceOrig\"],\n",
    "        nbinsx = 100\n",
    "    }\n",
    ")"
   ]
  },
  {
   "cell_type": "markdown",
   "metadata": {},
   "source": [
    "#### Train your model"
   ]
  },
  {
   "cell_type": "code",
   "execution_count": null,
   "metadata": {},
   "outputs": [],
   "source": [
    "using Microsoft.ML;\n",
    "using Microsoft.ML.Trainers.FastTree;\n",
    "using Microsoft.ML.Data;"
   ]
  },
  {
   "cell_type": "code",
   "execution_count": null,
   "metadata": {},
   "outputs": [],
   "source": [
    "internal sealed class Transaction\n",
    "{\n",
    "        [ColumnName(\"step\"), LoadColumn(0)]\n",
    "        public float Step { get; set; }\n",
    "\n",
    "        [ColumnName(\"type\"), LoadColumn(1)]\n",
    "        public string Type { get; set; }\n",
    "\n",
    "        [ColumnName(\"amount\"), LoadColumn(2)]\n",
    "        public float Amount { get; set; }\n",
    "\n",
    "        [ColumnName(\"nameOrig\"), LoadColumn(3)]\n",
    "        public string NameOrig { get; set; }\n",
    "\n",
    "        [ColumnName(\"oldbalanceOrg\"), LoadColumn(4)]\n",
    "        public float OldbalanceOrg { get; set; }\n",
    "\n",
    "        [ColumnName(\"newbalanceOrig\"), LoadColumn(5)]\n",
    "        public float NewbalanceOrig { get; set; }\n",
    "\n",
    "        [ColumnName(\"nameDest\"), LoadColumn(6)]\n",
    "        public string NameDest { get; set; }\n",
    "\n",
    "        [ColumnName(\"oldbalanceDest\"), LoadColumn(7)]\n",
    "        public float OldbalanceDest { get; set; }\n",
    "\n",
    "        [ColumnName(\"newbalanceDest\"), LoadColumn(8)]\n",
    "        public float NewbalanceDest { get; set; }\n",
    "\n",
    "        [ColumnName(\"isFraud\"), LoadColumn(9)]\n",
    "        public bool IsFraud { get; set; }\n",
    "\n",
    "        [ColumnName(\"isFlaggedFraud\"), LoadColumn(10)]\n",
    "        public float IsFlaggedFraud { get; set; }\n",
    "}"
   ]
  },
  {
   "cell_type": "markdown",
   "metadata": {},
   "source": [
    "#### Load the data"
   ]
  },
  {
   "cell_type": "code",
   "execution_count": null,
   "metadata": {},
   "outputs": [],
   "source": [
    "var mlContext = new MLContext(seed: 1);\n",
    "\n",
    "var data = mlContext.Data.LoadFromTextFile<Transaction>(dataPath, hasHeader: true, separatorChar: ',');\n",
    "var testTrainData = mlContext.Data.TrainTestSplit(data);"
   ]
  },
  {
   "cell_type": "markdown",
   "metadata": {},
   "source": [
    "#### Create a data processing pipeline"
   ]
  },
  {
   "cell_type": "code",
   "execution_count": null,
   "metadata": {},
   "outputs": [],
   "source": [
    "var dataProcessingPipeline = mlContext.Transforms.Categorical.OneHotEncoding(\"type\")\n",
    "    .Append(mlContext.Transforms.Categorical.OneHotHashEncoding(\"nameDest\"))\n",
    "    .Append(mlContext.Transforms.Concatenate(\"Features\", \"type\", \"nameDest\", \"amount\", \"oldbalanceOrg\", \"oldbalanceDest\", \"newbalanceOrig\", \"newbalanceDest\")\n",
    "    .Append(mlContext.Transforms.NormalizeMinMax(\"Features\")));"
   ]
  },
  {
   "cell_type": "markdown",
   "metadata": {},
   "source": [
    "#### Create a training pipeline"
   ]
  },
  {
   "cell_type": "code",
   "execution_count": null,
   "metadata": {},
   "outputs": [],
   "source": [
    "var trainingPipeline = dataProcessingPipeline.Append(mlContext.BinaryClassification.Trainers.FastTree(\n",
    "new FastTreeBinaryTrainer.Options \n",
    "{ \n",
    "    NumberOfLeaves = 10, \n",
    "    NumberOfTrees = 10, \n",
    "    LabelColumnName = \"isFraud\", \n",
    "    FeatureColumnName = \"Features\" \n",
    "}));"
   ]
  },
  {
   "cell_type": "markdown",
   "metadata": {},
   "source": [
    "#### Train our model"
   ]
  },
  {
   "cell_type": "code",
   "execution_count": null,
   "metadata": {},
   "outputs": [],
   "source": [
    "var trainedModel = trainingPipeline.Fit(testTrainData.TrainSet);"
   ]
  },
  {
   "cell_type": "markdown",
   "metadata": {},
   "source": [
    "#### Evaluate performance"
   ]
  },
  {
   "cell_type": "code",
   "execution_count": null,
   "metadata": {},
   "outputs": [],
   "source": [
    "var predictions = trainedModel.Transform(testTrainData.TestSet);\n",
    "\n",
    "var metrics = mlContext.BinaryClassification.Evaluate(predictions, labelColumnName: \"isFraud\");\n",
    "display(metrics)"
   ]
  },
  {
   "cell_type": "markdown",
   "metadata": {},
   "source": [
    "## AutoML"
   ]
  },
  {
   "cell_type": "code",
   "execution_count": null,
   "metadata": {},
   "outputs": [],
   "source": [
    "%%time \n",
    "\n",
    "using Microsoft.ML.AutoML;\n",
    "\n",
    "var result = mlContext.Auto()\n",
    "                .CreateBinaryClassificationExperiment(50)\n",
    "                .Execute(testTrainData.TrainSet, labelColumnName: \"isFraud\");"
   ]
  },
  {
   "cell_type": "code",
   "execution_count": null,
   "metadata": {},
   "outputs": [],
   "source": [
    "var scatters = result.RunDetails.Where(d => d.ValidationMetrics != null).GroupBy(    \n",
    "    r => r.TrainerName,\n",
    "    (name, details) => new Graph.Scatter()\n",
    "    {\n",
    "        name = name,\n",
    "        x = details.Select(r => r.RuntimeInSeconds),\n",
    "        y = details.Select(r => r.ValidationMetrics.Accuracy),\n",
    "        mode = \"markers\",\n",
    "        marker = new Graph.Marker() { size = 12 }\n",
    "    });\n",
    "\n",
    "var chart = Chart.Plot(scatters);\n",
    "chart.WithXTitle(\"Training Time\");\n",
    "chart.WithYTitle(\"Accuracy\");\n",
    "display(chart);\n",
    "\n",
    "Console.WriteLine($\"Best Trainer:{result.BestRun.TrainerName}\");"
   ]
  },
  {
   "cell_type": "markdown",
   "metadata": {},
   "source": [
    "#### Evaluate AutoML"
   ]
  },
  {
   "cell_type": "code",
   "execution_count": null,
   "metadata": {},
   "outputs": [],
   "source": [
    "var predictions = result.BestRun.Model.Transform(testTrainData.TestSet);\n",
    "var metrics = mlContext.BinaryClassification.Evaluate(predictions, labelColumnName: \"isFraud\");\n",
    "display(metrics)"
   ]
  },
  {
   "cell_type": "markdown",
   "metadata": {},
   "source": [
    "#### Save"
   ]
  },
  {
   "cell_type": "code",
   "execution_count": null,
   "metadata": {},
   "outputs": [],
   "source": [
    "mlContext.Model.Save(trainedModel, data.Schema, \"MLModel.zip\");"
   ]
  }
 ],
 "metadata": {
  "kernelspec": {
   "display_name": ".NET (C#)",
   "language": "C#",
   "name": ".net-csharp"
  },
  "language_info": {
   "file_extension": ".cs",
   "mimetype": "text/x-csharp",
   "name": "C#",
   "pygments_lexer": "csharp",
   "version": "7.3"
  }
 },
 "nbformat": 4,
 "nbformat_minor": 2
}
