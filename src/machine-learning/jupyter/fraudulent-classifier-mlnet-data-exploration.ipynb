{
 "cells": [
  {
   "cell_type": "code",
   "execution_count": null,
   "metadata": {},
   "outputs": [],
   "source": [
    "// ML.NET Nuget packages \n",
    "#r \"nuget:Microsoft.ML,1.4.0\"  \n",
    "    \n",
    "//Install XPlot package\n",
    "#r \"nuget:XPlot.Plotly,2.0.0\""
   ]
  },
  {
   "cell_type": "code",
   "execution_count": null,
   "metadata": {},
   "outputs": [],
   "source": [
    "using System.IO;\n",
    "using System.Net.Http;\n",
    "\n",
    "string dataPath = \"data.csv\";\n",
    "if (!File.Exists(dataPath))\n",
    "{\n",
    "    var contents = new HttpClient().GetStringAsync(\"http://bit.ly/2NDquHE\").Result;       \n",
    "    File.WriteAllText(dataPath, contents);\n",
    "}"
   ]
  },
  {
   "cell_type": "code",
   "execution_count": null,
   "metadata": {},
   "outputs": [],
   "source": [
    "using Microsoft.ML;\n",
    "using Microsoft.ML.Data;\n",
    "using XPlot.Plotly;\n",
    "\n",
    "public class Transaction\n",
    "{\n",
    "    [ColumnName(\"step\"), LoadColumn(0)]\n",
    "    public float Step { get; set; }\n",
    "\n",
    "    [ColumnName(\"type\"), LoadColumn(1)]\n",
    "    public string Type { get; set; }\n",
    "\n",
    "    [ColumnName(\"amount\"), LoadColumn(2)]\n",
    "    public float Amount { get; set; }\n",
    "\n",
    "    [ColumnName(\"nameOrig\"), LoadColumn(3)]\n",
    "    public string NameOrig { get; set; }\n",
    "\n",
    "    [ColumnName(\"oldbalanceOrg\"), LoadColumn(4)]\n",
    "    public float OldbalanceOrg { get; set; }\n",
    "\n",
    "    [ColumnName(\"newbalanceOrig\"), LoadColumn(5)]\n",
    "    public float NewbalanceOrig { get; set; }\n",
    "\n",
    "    [ColumnName(\"nameDest\"), LoadColumn(6)]\n",
    "    public string NameDest { get; set; }\n",
    "\n",
    "    [ColumnName(\"oldbalanceDest\"), LoadColumn(7)]\n",
    "    public float OldbalanceDest { get; set; }\n",
    "\n",
    "    [ColumnName(\"newbalanceDest\"), LoadColumn(8)]\n",
    "    public float NewbalanceDest { get; set; }\n",
    "\n",
    "    [ColumnName(\"isFraud\"), LoadColumn(9)]\n",
    "    public bool IsFraud { get; set; }\n",
    "\n",
    "    [ColumnName(\"isFlaggedFraud\"), LoadColumn(10)]\n",
    "    public float IsFlaggedFraud { get; set; }\n",
    "}"
   ]
  },
  {
   "cell_type": "code",
   "execution_count": null,
   "metadata": {},
   "outputs": [],
   "source": [
    "var mlContext = new MLContext();\n",
    "\n",
    "var dataView = mlContext.Data.LoadFromTextFile<Transaction>(dataPath, hasHeader: true, separatorChar: ',');"
   ]
  },
  {
   "cell_type": "code",
   "execution_count": null,
   "metadata": {},
   "outputs": [],
   "source": [
    "var rows = mlContext.Data.CreateEnumerable<Transaction>(dataView, reuseRowObject: false)\n",
    "                    .Take(5)\n",
    "                    .ToList();\n",
    "\n",
    "display(rows);"
   ]
  },
  {
   "cell_type": "code",
   "execution_count": null,
   "metadata": {},
   "outputs": [],
   "source": [
    "var countFraud = dataView.GetColumn<bool>(\"isFraud\").Count(x => x == true);\n",
    "var countNotFraud = dataView.GetColumn<bool>(\"isFraud\").Count(x => x == false);\n",
    "\n",
    "var values = new List<int> { countFraud, countNotFraud};\n",
    "var labels = new List<string> { \"IsFraud\", \"IsNotFraud\" };\n",
    "\n",
    "var pieChart = Chart.Plot(new Graph.Pie \n",
    "{\n",
    "    labels = labels,\n",
    "    values = values\n",
    "});\n",
    "\n",
    "pieChart"
   ]
  }
 ],
 "metadata": {
  "kernelspec": {
   "display_name": ".NET (C#)",
   "language": "C#",
   "name": ".net-csharp"
  },
  "language_info": {
   "file_extension": ".cs",
   "mimetype": "text/x-csharp",
   "name": "C#",
   "pygments_lexer": "csharp",
   "version": "8.0"
  }
 },
 "nbformat": 4,
 "nbformat_minor": 4
}