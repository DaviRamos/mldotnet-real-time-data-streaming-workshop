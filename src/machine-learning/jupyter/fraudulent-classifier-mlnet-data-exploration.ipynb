{
 "cells": [
  {
   "cell_type": "code",
   "execution_count": 1,
   "metadata": {},
   "outputs": [
    {
     "data": {
      "text/html": [
       "Installing package Microsoft.ML, version 1.4.0-p.....................done!"
      ]
     },
     "metadata": {},
     "output_type": "display_data"
    },
    {
     "data": {
      "text/html": [
       "Successfully added reference to package Microsoft.ML, version 1.4.0-p"
      ]
     },
     "metadata": {},
     "output_type": "display_data"
    },
    {
     "data": {
      "text/html": [
       "Installing package XPlot.Plotly, version 2.0.0.......done!"
      ]
     },
     "metadata": {},
     "output_type": "display_data"
    },
    {
     "data": {
      "text/html": [
       "Successfully added reference to package XPlot.Plotly, version 2.0.0"
      ]
     },
     "metadata": {},
     "output_type": "display_data"
    }
   ],
   "source": [
    "// ML.NET Nuget packages \n",
    "#r \"nuget:Microsoft.ML,1.4.0\"  \n",
    "    \n",
    "//Install XPlot package\n",
    "#r \"nuget:XPlot.Plotly,2.0.0\"\n",
    "\n",
    "using Microsoft.ML;\n",
    "using Microsoft.ML.Data;\n",
    "using XPlot.Plotly;"
   ]
  },
  {
   "cell_type": "code",
   "execution_count": 8,
   "metadata": {},
   "outputs": [],
   "source": [
    "using System.IO;\n",
    "using System.Net.Http;\n",
    "\n",
    "string dataPath = \"data.csv\";\n",
    "if (!File.Exists(dataPath))\n",
    "{\n",
    "    var contents = new HttpClient().GetStringAsync(\"http://bit.ly/2PeVY88\").Result;       \n",
    "    File.WriteAllText(dataPath, contents);\n",
    "}"
   ]
  },
  {
   "cell_type": "code",
   "execution_count": 6,
   "metadata": {},
   "outputs": [],
   "source": [
    "    public class Transaction\n",
    "    {\n",
    "        [ColumnName(\"step\"), LoadColumn(0)]\n",
    "        public float Step { get; set; }\n",
    "\n",
    "        [ColumnName(\"type\"), LoadColumn(1)]\n",
    "        public string Type { get; set; }\n",
    "\n",
    "        [ColumnName(\"amount\"), LoadColumn(2)]\n",
    "        public float Amount { get; set; }\n",
    "\n",
    "        [ColumnName(\"nameOrig\"), LoadColumn(3)]\n",
    "        public string NameOrig { get; set; }\n",
    "\n",
    "        [ColumnName(\"oldbalanceOrg\"), LoadColumn(4)]\n",
    "        public float OldbalanceOrg { get; set; }\n",
    "\n",
    "        [ColumnName(\"newbalanceOrig\"), LoadColumn(5)]\n",
    "        public float NewbalanceOrig { get; set; }\n",
    "\n",
    "        [ColumnName(\"nameDest\"), LoadColumn(6)]\n",
    "        public string NameDest { get; set; }\n",
    "\n",
    "        [ColumnName(\"oldbalanceDest\"), LoadColumn(7)]\n",
    "        public float OldbalanceDest { get; set; }\n",
    "\n",
    "        [ColumnName(\"newbalanceDest\"), LoadColumn(8)]\n",
    "        public float NewbalanceDest { get; set; }\n",
    "\n",
    "        [ColumnName(\"isFraud\"), LoadColumn(9)]\n",
    "        public bool IsFraud { get; set; }\n",
    "\n",
    "        [ColumnName(\"isFlaggedFraud\"), LoadColumn(10)]\n",
    "        public float IsFlaggedFraud { get; set; }\n",
    "    }"
   ]
  },
  {
   "cell_type": "code",
   "execution_count": 11,
   "metadata": {},
   "outputs": [],
   "source": [
    "var mlContext = new MLContext();\n",
    "\n",
    "var dataView = mlContext.Data.LoadFromTextFile<Transaction>(dataPath, hasHeader: true, separatorChar: ',');"
   ]
  },
  {
   "cell_type": "code",
   "execution_count": 13,
   "metadata": {},
   "outputs": [
    {
     "data": {
      "text/html": [
       "<table><thead><tr><th><i>index</i></th><th>Step</th><th>Type</th><th>Amount</th><th>NameOrig</th><th>OldbalanceOrg</th><th>NewbalanceOrig</th><th>NameDest</th><th>OldbalanceDest</th><th>NewbalanceDest</th><th>IsFraud</th><th>IsFlaggedFraud</th></tr></thead><tbody><tr><td>0</td><td>1</td><td>PAYMENT</td><td>9839.64</td><td>C1231006815</td><td>170136</td><td>160296.36</td><td>M1979787155</td><td>0</td><td>0</td><td>False</td><td>0</td></tr><tr><td>1</td><td>1</td><td>PAYMENT</td><td>1864.28</td><td>C1666544295</td><td>21249</td><td>19384.72</td><td>M2044282225</td><td>0</td><td>0</td><td>False</td><td>0</td></tr><tr><td>2</td><td>1</td><td>TRANSFER</td><td>181</td><td>C1305486145</td><td>181</td><td>0</td><td>C553264065</td><td>0</td><td>0</td><td>True</td><td>0</td></tr><tr><td>3</td><td>1</td><td>CASH_OUT</td><td>181</td><td>C840083671</td><td>181</td><td>0</td><td>C38997010</td><td>21182</td><td>0</td><td>True</td><td>0</td></tr><tr><td>4</td><td>1</td><td>PAYMENT</td><td>11668.14</td><td>C2048537720</td><td>41554</td><td>29885.86</td><td>M1230701703</td><td>0</td><td>0</td><td>False</td><td>0</td></tr></tbody></table>"
      ]
     },
     "metadata": {},
     "output_type": "display_data"
    }
   ],
   "source": [
    "var rows = mlContext.Data.CreateEnumerable<Transaction>(dataView, reuseRowObject: false)\n",
    "                    .Take(5)\n",
    "                    .ToList();\n",
    "\n",
    "display(rows);"
   ]
  },
  {
   "cell_type": "code",
   "execution_count": 19,
   "metadata": {},
   "outputs": [
    {
     "data": {
      "text/html": [
       "<div id=\"dc48ce49-30b9-4117-90ee-e1d7a3de2053\" style=\"width: 900px; height: 500px;\"></div><script type=\"text/javascript\">\r\n",
       "\r\n",
       "var renderPlotly = function() {\r\n",
       "    var xplotRequire = requirejs.config({context:'xplot-2.0.0',paths:{plotly:'https://cdn.plot.ly/plotly-1.49.2.min'}});\r\n",
       "    xplotRequire(['plotly'], function(Plotly) {\r\n",
       "\n",
       "            var data = [{\"type\":\"pie\",\"labels\":[\"IsFraud\",\"IsNotFraud\"],\"values\":[8213,6354407]}];\n",
       "            var layout = \"\";\n",
       "            Plotly.newPlot('dc48ce49-30b9-4117-90ee-e1d7a3de2053', data, layout);\n",
       "        });\r\n",
       "};\r\n",
       "if ((typeof(requirejs) !==  typeof(Function)) || (typeof(requirejs.config) !== typeof(Function))) { \r\n",
       "    var script = document.createElement(\"script\"); \r\n",
       "    script.setAttribute(\"src\", \"https://cdnjs.cloudflare.com/ajax/libs/require.js/2.3.6/require.min.js\"); \r\n",
       "    script.onload = function(){\r\n",
       "        renderPlotly();\r\n",
       "    };\r\n",
       "    document.getElementsByTagName(\"head\")[0].appendChild(script); \r\n",
       "}\r\n",
       "else {\r\n",
       "    renderPlotly();\r\n",
       "}\r\n",
       "</script>"
      ]
     },
     "execution_count": 19,
     "metadata": {},
     "output_type": "execute_result"
    }
   ],
   "source": [
    "var countFraud = dataView.GetColumn<bool>(\"isFraud\").Count(x => x == true);\n",
    "var countNotFraud = dataView.GetColumn<bool>(\"isFraud\").Count(x => x == false);\n",
    "\n",
    "var values = new List<int> { countFraud, countNotFraud};\n",
    "var labels = new List<string> { \"IsFraud\", \"IsNotFraud\" };\n",
    "\n",
    "var pieChart = Chart.Plot(new Graph.Pie \n",
    "{\n",
    "    labels = labels,\n",
    "    values = values\n",
    "});\n",
    "\n",
    "pieChart"
   ]
  }
 ],
 "metadata": {
  "kernelspec": {
   "display_name": ".NET (C#)",
   "language": "C#",
   "name": ".net-csharp"
  },
  "language_info": {
   "file_extension": ".cs",
   "mimetype": "text/x-csharp",
   "name": "C#",
   "pygments_lexer": "csharp",
   "version": "8.0"
  }
 },
 "nbformat": 4,
 "nbformat_minor": 4
}